{
 "cells": [
  {
   "cell_type": "markdown",
   "metadata": {},
   "source": [
    "## Exploratory Data Analysis"
   ]
  },
  {
   "cell_type": "code",
   "execution_count": 8,
   "metadata": {},
   "outputs": [],
   "source": [
    "import pandas as pd\n",
    "import time\n",
    "\n",
    "import numpy as np\n",
    "import wrds\n",
    "import pull_wrds\n",
    "\n",
    "import config\n",
    "from pathlib import Path\n",
    "\n",
    "OUTPUT_DIR = config.OUTPUT_DIR\n",
    "DATA_DIR = config.DATA_DIR\n",
    "WRDS_USERNAME = config.WRDS_USERNAME\n"
   ]
  },
  {
   "cell_type": "code",
   "execution_count": 9,
   "metadata": {},
   "outputs": [
    {
     "name": "stdout",
     "output_type": "stream",
     "text": [
      "C:/Users/062/GITHUB/DSFinalProject/data\n"
     ]
    }
   ],
   "source": [
    "print(DATA_DIR)"
   ]
  },
  {
   "cell_type": "code",
   "execution_count": 12,
   "metadata": {},
   "outputs": [],
   "source": [
    "comp = pull_wrds.load_13f(data_dir=DATA_DIR)\n",
    "crsp = pull_wrds.load_Mutual_Fund(data_dir=DATA_DIR)"
   ]
  },
  {
   "cell_type": "code",
   "execution_count": 13,
   "metadata": {},
   "outputs": [
    {
     "data": {
      "text/html": [
       "<div>\n",
       "<style scoped>\n",
       "    .dataframe tbody tr th:only-of-type {\n",
       "        vertical-align: middle;\n",
       "    }\n",
       "\n",
       "    .dataframe tbody tr th {\n",
       "        vertical-align: top;\n",
       "    }\n",
       "\n",
       "    .dataframe thead th {\n",
       "        text-align: right;\n",
       "    }\n",
       "</style>\n",
       "<table border=\"1\" class=\"dataframe\">\n",
       "  <thead>\n",
       "    <tr style=\"text-align: right;\">\n",
       "      <th></th>\n",
       "      <th>fdate</th>\n",
       "      <th>mgrno</th>\n",
       "      <th>mgrname</th>\n",
       "      <th>typecode</th>\n",
       "      <th>cusip</th>\n",
       "      <th>shares</th>\n",
       "      <th>prc</th>\n",
       "      <th>shrout1</th>\n",
       "    </tr>\n",
       "  </thead>\n",
       "  <tbody>\n",
       "    <tr>\n",
       "      <th>0</th>\n",
       "      <td>1980-03-31</td>\n",
       "      <td>44175.0</td>\n",
       "      <td>HAWAIIAN TRUST LIMITED</td>\n",
       "      <td>1.0</td>\n",
       "      <td>None</td>\n",
       "      <td>NaN</td>\n",
       "      <td>NaN</td>\n",
       "      <td>NaN</td>\n",
       "    </tr>\n",
       "    <tr>\n",
       "      <th>1</th>\n",
       "      <td>1980-03-31</td>\n",
       "      <td>44225.0</td>\n",
       "      <td>HEIZER CORPORATION</td>\n",
       "      <td>5.0</td>\n",
       "      <td>None</td>\n",
       "      <td>NaN</td>\n",
       "      <td>NaN</td>\n",
       "      <td>NaN</td>\n",
       "    </tr>\n",
       "    <tr>\n",
       "      <th>2</th>\n",
       "      <td>1980-03-31</td>\n",
       "      <td>90415.0</td>\n",
       "      <td>VARIABLE ANNUITY INS CO</td>\n",
       "      <td>2.0</td>\n",
       "      <td>None</td>\n",
       "      <td>NaN</td>\n",
       "      <td>NaN</td>\n",
       "      <td>NaN</td>\n",
       "    </tr>\n",
       "    <tr>\n",
       "      <th>3</th>\n",
       "      <td>1980-03-31</td>\n",
       "      <td>14560.0</td>\n",
       "      <td>CENTRAL NATL/RICHMOND</td>\n",
       "      <td>1.0</td>\n",
       "      <td>02473510</td>\n",
       "      <td>41550.0</td>\n",
       "      <td>32.00</td>\n",
       "      <td>28.0</td>\n",
       "    </tr>\n",
       "    <tr>\n",
       "      <th>4</th>\n",
       "      <td>1980-03-31</td>\n",
       "      <td>14560.0</td>\n",
       "      <td>CENTRAL NATL/RICHMOND</td>\n",
       "      <td>1.0</td>\n",
       "      <td>00282410</td>\n",
       "      <td>13000.0</td>\n",
       "      <td>36.63</td>\n",
       "      <td>60.0</td>\n",
       "    </tr>\n",
       "    <tr>\n",
       "      <th>...</th>\n",
       "      <td>...</td>\n",
       "      <td>...</td>\n",
       "      <td>...</td>\n",
       "      <td>...</td>\n",
       "      <td>...</td>\n",
       "      <td>...</td>\n",
       "      <td>...</td>\n",
       "      <td>...</td>\n",
       "    </tr>\n",
       "    <tr>\n",
       "      <th>144884</th>\n",
       "      <td>2017-12-31</td>\n",
       "      <td>82810.0</td>\n",
       "      <td>TEACHERS ADVR INC</td>\n",
       "      <td>2.0</td>\n",
       "      <td>98986X10</td>\n",
       "      <td>23139.0</td>\n",
       "      <td>3.83</td>\n",
       "      <td>24.0</td>\n",
       "    </tr>\n",
       "    <tr>\n",
       "      <th>144885</th>\n",
       "      <td>2017-12-31</td>\n",
       "      <td>84900.0</td>\n",
       "      <td>CITIGROUP INC</td>\n",
       "      <td>5.0</td>\n",
       "      <td>98986X10</td>\n",
       "      <td>685.0</td>\n",
       "      <td>3.83</td>\n",
       "      <td>24.0</td>\n",
       "    </tr>\n",
       "    <tr>\n",
       "      <th>144886</th>\n",
       "      <td>2017-12-31</td>\n",
       "      <td>90457.0</td>\n",
       "      <td>VANGUARD GROUP, INC.</td>\n",
       "      <td>5.0</td>\n",
       "      <td>98986X10</td>\n",
       "      <td>599151.0</td>\n",
       "      <td>3.83</td>\n",
       "      <td>24.0</td>\n",
       "    </tr>\n",
       "    <tr>\n",
       "      <th>144887</th>\n",
       "      <td>2017-12-31</td>\n",
       "      <td>67780.0</td>\n",
       "      <td>PANAGORA ASSET MANAGEMENT INC.</td>\n",
       "      <td>5.0</td>\n",
       "      <td>98986M10</td>\n",
       "      <td>13800.0</td>\n",
       "      <td>11.07</td>\n",
       "      <td>33.0</td>\n",
       "    </tr>\n",
       "    <tr>\n",
       "      <th>144888</th>\n",
       "      <td>2017-12-31</td>\n",
       "      <td>11362.0</td>\n",
       "      <td>HEXAVEST INC.</td>\n",
       "      <td>5.0</td>\n",
       "      <td>83125J10</td>\n",
       "      <td>461420.0</td>\n",
       "      <td>22.35</td>\n",
       "      <td>37.0</td>\n",
       "    </tr>\n",
       "  </tbody>\n",
       "</table>\n",
       "<p>74144889 rows × 8 columns</p>\n",
       "</div>"
      ],
      "text/plain": [
       "            fdate    mgrno                         mgrname  typecode  \\\n",
       "0      1980-03-31  44175.0          HAWAIIAN TRUST LIMITED       1.0   \n",
       "1      1980-03-31  44225.0              HEIZER CORPORATION       5.0   \n",
       "2      1980-03-31  90415.0         VARIABLE ANNUITY INS CO       2.0   \n",
       "3      1980-03-31  14560.0           CENTRAL NATL/RICHMOND       1.0   \n",
       "4      1980-03-31  14560.0           CENTRAL NATL/RICHMOND       1.0   \n",
       "...           ...      ...                             ...       ...   \n",
       "144884 2017-12-31  82810.0               TEACHERS ADVR INC       2.0   \n",
       "144885 2017-12-31  84900.0                   CITIGROUP INC       5.0   \n",
       "144886 2017-12-31  90457.0            VANGUARD GROUP, INC.       5.0   \n",
       "144887 2017-12-31  67780.0  PANAGORA ASSET MANAGEMENT INC.       5.0   \n",
       "144888 2017-12-31  11362.0                   HEXAVEST INC.       5.0   \n",
       "\n",
       "           cusip    shares    prc  shrout1  \n",
       "0           None       NaN    NaN      NaN  \n",
       "1           None       NaN    NaN      NaN  \n",
       "2           None       NaN    NaN      NaN  \n",
       "3       02473510   41550.0  32.00     28.0  \n",
       "4       00282410   13000.0  36.63     60.0  \n",
       "...          ...       ...    ...      ...  \n",
       "144884  98986X10   23139.0   3.83     24.0  \n",
       "144885  98986X10     685.0   3.83     24.0  \n",
       "144886  98986X10  599151.0   3.83     24.0  \n",
       "144887  98986M10   13800.0  11.07     33.0  \n",
       "144888  83125J10  461420.0  22.35     37.0  \n",
       "\n",
       "[74144889 rows x 8 columns]"
      ]
     },
     "metadata": {},
     "output_type": "display_data"
    }
   ],
   "source": [
    "display(comp)"
   ]
  },
  {
   "cell_type": "code",
   "execution_count": 14,
   "metadata": {},
   "outputs": [
    {
     "data": {
      "text/html": [
       "<div>\n",
       "<style scoped>\n",
       "    .dataframe tbody tr th:only-of-type {\n",
       "        vertical-align: middle;\n",
       "    }\n",
       "\n",
       "    .dataframe tbody tr th {\n",
       "        vertical-align: top;\n",
       "    }\n",
       "\n",
       "    .dataframe thead th {\n",
       "        text-align: right;\n",
       "    }\n",
       "</style>\n",
       "<table border=\"1\" class=\"dataframe\">\n",
       "  <thead>\n",
       "    <tr style=\"text-align: right;\">\n",
       "      <th></th>\n",
       "      <th>fdate</th>\n",
       "      <th>mgrco</th>\n",
       "    </tr>\n",
       "  </thead>\n",
       "  <tbody>\n",
       "    <tr>\n",
       "      <th>0</th>\n",
       "      <td>1999-03-31</td>\n",
       "      <td>AAL CAPITAL MANAGEMENT</td>\n",
       "    </tr>\n",
       "    <tr>\n",
       "      <th>1</th>\n",
       "      <td>1999-03-31</td>\n",
       "      <td>ASEA BROWN BOVERI INVT MGMT A</td>\n",
       "    </tr>\n",
       "    <tr>\n",
       "      <th>2</th>\n",
       "      <td>1999-03-31</td>\n",
       "      <td>ABN AMRO LUXEMBOURG</td>\n",
       "    </tr>\n",
       "    <tr>\n",
       "      <th>3</th>\n",
       "      <td>1999-03-31</td>\n",
       "      <td>ACADIAN ASSET MANAGEMENT, INC</td>\n",
       "    </tr>\n",
       "    <tr>\n",
       "      <th>4</th>\n",
       "      <td>1999-03-31</td>\n",
       "      <td>ACADEMY CAPITAL MGMT, INC.</td>\n",
       "    </tr>\n",
       "    <tr>\n",
       "      <th>...</th>\n",
       "      <td>...</td>\n",
       "      <td>...</td>\n",
       "    </tr>\n",
       "    <tr>\n",
       "      <th>153576</th>\n",
       "      <td>2017-12-31</td>\n",
       "      <td>ADULA CAPITAL AG</td>\n",
       "    </tr>\n",
       "    <tr>\n",
       "      <th>153577</th>\n",
       "      <td>2017-12-31</td>\n",
       "      <td>WPS ADVR LIMITED (BERMUDA)</td>\n",
       "    </tr>\n",
       "    <tr>\n",
       "      <th>153578</th>\n",
       "      <td>2017-12-31</td>\n",
       "      <td>URSUS-3 CAPITAL, AV, S.A</td>\n",
       "    </tr>\n",
       "    <tr>\n",
       "      <th>153579</th>\n",
       "      <td>2017-12-31</td>\n",
       "      <td>VERDE ASSET MANAGEMENT S.A.</td>\n",
       "    </tr>\n",
       "    <tr>\n",
       "      <th>153580</th>\n",
       "      <td>2017-12-31</td>\n",
       "      <td>HUMANIS GESTION D'ACTIFS</td>\n",
       "    </tr>\n",
       "  </tbody>\n",
       "</table>\n",
       "<p>153581 rows × 2 columns</p>\n",
       "</div>"
      ],
      "text/plain": [
       "            fdate                          mgrco\n",
       "0      1999-03-31         AAL CAPITAL MANAGEMENT\n",
       "1      1999-03-31  ASEA BROWN BOVERI INVT MGMT A\n",
       "2      1999-03-31            ABN AMRO LUXEMBOURG\n",
       "3      1999-03-31  ACADIAN ASSET MANAGEMENT, INC\n",
       "4      1999-03-31     ACADEMY CAPITAL MGMT, INC.\n",
       "...           ...                            ...\n",
       "153576 2017-12-31               ADULA CAPITAL AG\n",
       "153577 2017-12-31     WPS ADVR LIMITED (BERMUDA)\n",
       "153578 2017-12-31       URSUS-3 CAPITAL, AV, S.A\n",
       "153579 2017-12-31    VERDE ASSET MANAGEMENT S.A.\n",
       "153580 2017-12-31       HUMANIS GESTION D'ACTIFS\n",
       "\n",
       "[153581 rows x 2 columns]"
      ]
     },
     "metadata": {},
     "output_type": "display_data"
    }
   ],
   "source": [
    "display(crsp)"
   ]
  },
  {
   "cell_type": "code",
   "execution_count": 15,
   "metadata": {},
   "outputs": [],
   "source": [
    "comp.rename(columns={'fdate': 'date'}, inplace=True)\n",
    "comp['date'] = pd.to_datetime(comp['date'])\n",
    "grouped = comp.groupby(['mgrno', 'date'])"
   ]
  },
  {
   "cell_type": "code",
   "execution_count": 19,
   "metadata": {},
   "outputs": [],
   "source": [
    "comp_sorted = comp.sort_values(by=['mgrno', 'date'])"
   ]
  },
  {
   "cell_type": "code",
   "execution_count": 21,
   "metadata": {},
   "outputs": [
    {
     "data": {
      "text/html": [
       "<div>\n",
       "<style scoped>\n",
       "    .dataframe tbody tr th:only-of-type {\n",
       "        vertical-align: middle;\n",
       "    }\n",
       "\n",
       "    .dataframe tbody tr th {\n",
       "        vertical-align: top;\n",
       "    }\n",
       "\n",
       "    .dataframe thead th {\n",
       "        text-align: right;\n",
       "    }\n",
       "</style>\n",
       "<table border=\"1\" class=\"dataframe\">\n",
       "  <thead>\n",
       "    <tr style=\"text-align: right;\">\n",
       "      <th></th>\n",
       "      <th>date</th>\n",
       "      <th>mgrno</th>\n",
       "      <th>mgrname</th>\n",
       "      <th>typecode</th>\n",
       "      <th>cusip</th>\n",
       "      <th>shares</th>\n",
       "      <th>prc</th>\n",
       "      <th>shrout1</th>\n",
       "    </tr>\n",
       "  </thead>\n",
       "  <tbody>\n",
       "    <tr>\n",
       "      <th>353453</th>\n",
       "      <td>1998-12-31</td>\n",
       "      <td>110.0</td>\n",
       "      <td>A R ASSET MANAGEMENT INC</td>\n",
       "      <td>4.0</td>\n",
       "      <td>03783310</td>\n",
       "      <td>23100.0</td>\n",
       "      <td>40.94</td>\n",
       "      <td>135.0</td>\n",
       "    </tr>\n",
       "    <tr>\n",
       "      <th>355777</th>\n",
       "      <td>1998-12-31</td>\n",
       "      <td>110.0</td>\n",
       "      <td>A R ASSET MANAGEMENT INC</td>\n",
       "      <td>4.0</td>\n",
       "      <td>00282410</td>\n",
       "      <td>3500.0</td>\n",
       "      <td>49.00</td>\n",
       "      <td>1518.0</td>\n",
       "    </tr>\n",
       "    <tr>\n",
       "      <th>360280</th>\n",
       "      <td>1998-12-31</td>\n",
       "      <td>110.0</td>\n",
       "      <td>A R ASSET MANAGEMENT INC</td>\n",
       "      <td>4.0</td>\n",
       "      <td>03948310</td>\n",
       "      <td>8792.0</td>\n",
       "      <td>17.13</td>\n",
       "      <td>593.0</td>\n",
       "    </tr>\n",
       "    <tr>\n",
       "      <th>361748</th>\n",
       "      <td>1998-12-31</td>\n",
       "      <td>110.0</td>\n",
       "      <td>A R ASSET MANAGEMENT INC</td>\n",
       "      <td>4.0</td>\n",
       "      <td>00792410</td>\n",
       "      <td>2641.0</td>\n",
       "      <td>122.25</td>\n",
       "      <td>580.0</td>\n",
       "    </tr>\n",
       "    <tr>\n",
       "      <th>361925</th>\n",
       "      <td>1998-12-31</td>\n",
       "      <td>110.0</td>\n",
       "      <td>A R ASSET MANAGEMENT INC</td>\n",
       "      <td>4.0</td>\n",
       "      <td>01747510</td>\n",
       "      <td>1078.0</td>\n",
       "      <td>46.63</td>\n",
       "      <td>113.0</td>\n",
       "    </tr>\n",
       "    <tr>\n",
       "      <th>...</th>\n",
       "      <td>...</td>\n",
       "      <td>...</td>\n",
       "      <td>...</td>\n",
       "      <td>...</td>\n",
       "      <td>...</td>\n",
       "      <td>...</td>\n",
       "      <td>...</td>\n",
       "      <td>...</td>\n",
       "    </tr>\n",
       "    <tr>\n",
       "      <th>47090</th>\n",
       "      <td>1993-06-30</td>\n",
       "      <td>95120.0</td>\n",
       "      <td>ZWEIG TOTAL RETURN ADVS.</td>\n",
       "      <td>3.0</td>\n",
       "      <td>88284810</td>\n",
       "      <td>77300.0</td>\n",
       "      <td>45.75</td>\n",
       "      <td>220.0</td>\n",
       "    </tr>\n",
       "    <tr>\n",
       "      <th>47106</th>\n",
       "      <td>1993-06-30</td>\n",
       "      <td>95120.0</td>\n",
       "      <td>ZWEIG TOTAL RETURN ADVS.</td>\n",
       "      <td>3.0</td>\n",
       "      <td>90478450</td>\n",
       "      <td>33600.0</td>\n",
       "      <td>105.75</td>\n",
       "      <td>160.0</td>\n",
       "    </tr>\n",
       "    <tr>\n",
       "      <th>47123</th>\n",
       "      <td>1993-06-30</td>\n",
       "      <td>95120.0</td>\n",
       "      <td>ZWEIG TOTAL RETURN ADVS.</td>\n",
       "      <td>3.0</td>\n",
       "      <td>91191010</td>\n",
       "      <td>28500.0</td>\n",
       "      <td>47.50</td>\n",
       "      <td>108.0</td>\n",
       "    </tr>\n",
       "    <tr>\n",
       "      <th>47179</th>\n",
       "      <td>1993-06-30</td>\n",
       "      <td>95120.0</td>\n",
       "      <td>ZWEIG TOTAL RETURN ADVS.</td>\n",
       "      <td>3.0</td>\n",
       "      <td>93114210</td>\n",
       "      <td>147800.0</td>\n",
       "      <td>26.25</td>\n",
       "      <td>2300.0</td>\n",
       "    </tr>\n",
       "    <tr>\n",
       "      <th>47205</th>\n",
       "      <td>1993-06-30</td>\n",
       "      <td>95120.0</td>\n",
       "      <td>ZWEIG TOTAL RETURN ADVS.</td>\n",
       "      <td>3.0</td>\n",
       "      <td>30229010</td>\n",
       "      <td>53000.0</td>\n",
       "      <td>66.13</td>\n",
       "      <td>1242.0</td>\n",
       "    </tr>\n",
       "  </tbody>\n",
       "</table>\n",
       "<p>74144889 rows × 8 columns</p>\n",
       "</div>"
      ],
      "text/plain": [
       "             date    mgrno                   mgrname  typecode     cusip  \\\n",
       "353453 1998-12-31    110.0  A R ASSET MANAGEMENT INC       4.0  03783310   \n",
       "355777 1998-12-31    110.0  A R ASSET MANAGEMENT INC       4.0  00282410   \n",
       "360280 1998-12-31    110.0  A R ASSET MANAGEMENT INC       4.0  03948310   \n",
       "361748 1998-12-31    110.0  A R ASSET MANAGEMENT INC       4.0  00792410   \n",
       "361925 1998-12-31    110.0  A R ASSET MANAGEMENT INC       4.0  01747510   \n",
       "...           ...      ...                       ...       ...       ...   \n",
       "47090  1993-06-30  95120.0  ZWEIG TOTAL RETURN ADVS.       3.0  88284810   \n",
       "47106  1993-06-30  95120.0  ZWEIG TOTAL RETURN ADVS.       3.0  90478450   \n",
       "47123  1993-06-30  95120.0  ZWEIG TOTAL RETURN ADVS.       3.0  91191010   \n",
       "47179  1993-06-30  95120.0  ZWEIG TOTAL RETURN ADVS.       3.0  93114210   \n",
       "47205  1993-06-30  95120.0  ZWEIG TOTAL RETURN ADVS.       3.0  30229010   \n",
       "\n",
       "          shares     prc  shrout1  \n",
       "353453   23100.0   40.94    135.0  \n",
       "355777    3500.0   49.00   1518.0  \n",
       "360280    8792.0   17.13    593.0  \n",
       "361748    2641.0  122.25    580.0  \n",
       "361925    1078.0   46.63    113.0  \n",
       "...          ...     ...      ...  \n",
       "47090    77300.0   45.75    220.0  \n",
       "47106    33600.0  105.75    160.0  \n",
       "47123    28500.0   47.50    108.0  \n",
       "47179   147800.0   26.25   2300.0  \n",
       "47205    53000.0   66.13   1242.0  \n",
       "\n",
       "[74144889 rows x 8 columns]"
      ]
     },
     "metadata": {},
     "output_type": "display_data"
    }
   ],
   "source": [
    "display(comp_sorted)"
   ]
  },
  {
   "cell_type": "code",
   "execution_count": 22,
   "metadata": {},
   "outputs": [
    {
     "name": "stdout",
     "output_type": "stream",
     "text": [
      "Number of unique dates: 306243\n",
      "Number of unique 'mgrno': 8954\n"
     ]
    }
   ],
   "source": [
    "nunique_dates = grouped['date'].nunique().sum()\n",
    "nunique_mgrno = comp['mgrno'].nunique()\n",
    "\n",
    "print(f\"Number of unique dates: {nunique_dates}\")\n",
    "print(f\"Number of unique 'mgrno': {nunique_mgrno}\")\n"
   ]
  },
  {
   "cell_type": "code",
   "execution_count": 23,
   "metadata": {},
   "outputs": [
    {
     "name": "stdout",
     "output_type": "stream",
     "text": [
      "Number of unique dates: 152\n",
      "Number of unique 'mgrno': 8954\n"
     ]
    }
   ],
   "source": [
    "nunique_dates = comp_sorted['date'].nunique()\n",
    "nunique_mgrno = comp_sorted['mgrno'].nunique()\n",
    "\n",
    "print(f\"Number of unique dates: {nunique_dates}\")\n",
    "print(f\"Number of unique 'mgrno': {nunique_mgrno}\")"
   ]
  },
  {
   "cell_type": "code",
   "execution_count": 24,
   "metadata": {},
   "outputs": [
    {
     "data": {
      "text/plain": [
       "152"
      ]
     },
     "execution_count": 24,
     "metadata": {},
     "output_type": "execute_result"
    }
   ],
   "source": [
    "(2018-1980)*4"
   ]
  },
  {
   "cell_type": "markdown",
   "metadata": {},
   "source": [
    "Quarterly reports"
   ]
  },
  {
   "cell_type": "code",
   "execution_count": 25,
   "metadata": {},
   "outputs": [
    {
     "name": "stdout",
     "output_type": "stream",
     "text": [
      "Number of unique 'mgrco': 11875\n"
     ]
    }
   ],
   "source": [
    "nunique_mgrco = crsp['mgrco'].nunique()\n",
    "print(f\"Number of unique 'mgrco': {nunique_mgrco}\")"
   ]
  },
  {
   "cell_type": "markdown",
   "metadata": {},
   "source": [
    "Need to match companies?"
   ]
  },
  {
   "cell_type": "code",
   "execution_count": 26,
   "metadata": {},
   "outputs": [
    {
     "name": "stdout",
     "output_type": "stream",
     "text": [
      "[ 4.  5.  3.  2.  1. nan]\n"
     ]
    }
   ],
   "source": [
    "unique_typecodes = comp_sorted['typecode'].unique()\n",
    "print(unique_typecodes)"
   ]
  },
  {
   "cell_type": "markdown",
   "metadata": {},
   "source": [
    "Split bins of years"
   ]
  },
  {
   "cell_type": "code",
   "execution_count": null,
   "metadata": {},
   "outputs": [],
   "source": []
  }
 ],
 "metadata": {
  "kernelspec": {
   "display_name": "Python 3",
   "language": "python",
   "name": "python3"
  },
  "language_info": {
   "codemirror_mode": {
    "name": "ipython",
    "version": 3
   },
   "file_extension": ".py",
   "mimetype": "text/x-python",
   "name": "python",
   "nbconvert_exporter": "python",
   "pygments_lexer": "ipython3",
   "version": "3.10.11"
  }
 },
 "nbformat": 4,
 "nbformat_minor": 2
}
