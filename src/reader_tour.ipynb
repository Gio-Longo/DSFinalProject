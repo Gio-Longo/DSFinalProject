{
 "cells": [
  {
   "attachments": {},
   "cell_type": "markdown",
   "metadata": {},
   "source": [
    "## Project Summary - Challenges and Successes\n",
    "\n",
    "A Demand System Approach to Asset Pricing by Ralph S.J. Koijen and Motohiro Yogo discuss the restrictions of the law of one price in asset pricing and it further evaluates the sensitivity of investors given the price changes with limited arbitrage in the stock market. In this project, we replicated Table D1 - A summary of 13F institutions by type - which provides financial statistics for banks, insurance companies, investment advisors, mutual funds and pension funds starting from 1980 until 2017.\n",
    "\n",
    "Overall, it would be unfair to claim the replication process was entirely smooth; we faced some challenges. The initial challenge arose during the data retrieval. Even though eventually we pulled the 13F data and the mutual fund mapping from Wharton Research Data Services (WRDS) the size of the 13F data (~1.5GB) slowed our progress. Additionally, we encountered difficulty in obtaining the names of pension funds, resorting to manual extraction from a PDF file. A further challenge emerged from the absence of mutual fund mapping data from mid-2018 onwards, though this did not hinder the replication of Table D1; however, it proved troublesome for replicating Table D1 with more recent data (2018-2024). Apart from these impediments, close collaboration across team members and the instructions provided made this final project a great learning experience.\n"
   ]
  },
  {
   "attachments": {},
   "cell_type": "markdown",
   "metadata": {},
   "source": [
    "## Import Packages"
   ]
  },
  {
   "cell_type": "code",
   "execution_count": 16,
   "metadata": {},
   "outputs": [],
   "source": [
    "import pandas as pd\n",
    "import numpy as np\n",
    "\n",
    "import config\n",
    "from pathlib import Path\n",
    "\n",
    "DATA_DIR = Path(config.DATA_DIR)\n",
    "STARTDATE = config.STARTDATE_OLD\n",
    "ENDDATE = config.ENDDATE_OLD\n",
    "\n",
    "import warnings\n",
    "warnings.filterwarnings(\"ignore\", category=UserWarning, module=\"plotnine\")"
   ]
  },
  {
   "cell_type": "code",
   "execution_count": 17,
   "metadata": {},
   "outputs": [],
   "source": [
    "from pull_wrds import load_13f, load_Mutual_Fund\n",
    "import clean_data\n",
    "import construct_stats"
   ]
  },
  {
   "attachments": {},
   "cell_type": "markdown",
   "metadata": {},
   "source": [
    "### Configure display settings"
   ]
  },
  {
   "cell_type": "code",
   "execution_count": 18,
   "metadata": {},
   "outputs": [],
   "source": [
    "pd.options.display.max_columns = 25\n",
    "pd.options.display.max_rows = 500\n",
    "pd.options.display.max_colwidth = 100\n",
    "pd.set_option('display.float_format', lambda x: '%.3f' % x)\n",
    "\n",
    "# Change default figure size\n",
    "plt.rcParams['figure.figsize'] = 6, 5"
   ]
  },
  {
   "attachments": {},
   "cell_type": "markdown",
   "metadata": {},
   "source": [
    "## Load Data\n",
    "Skip data pull due time constraint and directly load the pre-pulled data"
   ]
  },
  {
   "cell_type": "code",
   "execution_count": 19,
   "metadata": {},
   "outputs": [],
   "source": [
    "df_raw_13f = load_13f()"
   ]
  },
  {
   "attachments": {},
   "cell_type": "markdown",
   "metadata": {},
   "source": [
    "## Clean Data\n",
    "\n",
    "Use the starting and ending dates from the config.py in the clean_data function from clean_data.py"
   ]
  },
  {
   "cell_type": "code",
   "execution_count": 20,
   "metadata": {},
   "outputs": [],
   "source": [
    "data_range = (STARTDATE, ENDDATE)\n",
    "df_clean_13f = clean_data.clean_data(data_range)"
   ]
  },
  {
   "attachments": {},
   "cell_type": "markdown",
   "metadata": {},
   "source": [
    "## Create Descriptive Statistics\n",
    "Use the cleaned data to generate some statistics from the table to be replicated"
   ]
  },
  {
   "cell_type": "code",
   "execution_count": 21,
   "metadata": {},
   "outputs": [
    {
     "name": "stderr",
     "output_type": "stream",
     "text": [
      "/opt/anaconda3/envs/finm/lib/python3.12/site-packages/plotnine/ggplot.py:587: PlotnineWarning: Saving 14 x 7 in image.\n",
      "/opt/anaconda3/envs/finm/lib/python3.12/site-packages/plotnine/ggplot.py:588: PlotnineWarning: Filename: /Users/sarp/Desktop/Files/UChicago/UCHICAGO/Courses/2nd Quarter/DS for Finance/FinalProject/FinalProject/output/plots/type_counts.png\n",
      "/opt/anaconda3/envs/finm/lib/python3.12/site-packages/plotnine/ggplot.py:587: PlotnineWarning: Saving 14 x 7 in image.\n",
      "/opt/anaconda3/envs/finm/lib/python3.12/site-packages/plotnine/ggplot.py:588: PlotnineWarning: Filename: /Users/sarp/Desktop/Files/UChicago/UCHICAGO/Courses/2nd Quarter/DS for Finance/FinalProject/FinalProject/output/plots/aum.png\n",
      "/opt/anaconda3/envs/finm/lib/python3.12/site-packages/plotnine/ggplot.py:587: PlotnineWarning: Saving 14 x 7 in image.\n",
      "/opt/anaconda3/envs/finm/lib/python3.12/site-packages/plotnine/ggplot.py:588: PlotnineWarning: Filename: /Users/sarp/Desktop/Files/UChicago/UCHICAGO/Courses/2nd Quarter/DS for Finance/FinalProject/FinalProject/output/plots/mgrs.png\n"
     ]
    }
   ],
   "source": [
    "type_counts_df, aum_df, mgrs_df = construct_stats.construct_stats(df_clean_13f)\n",
    "\n",
    "construct_stats.plot_stats_data(type_counts_df, 'Count', 'Type Counts Over Time', 'type_counts.png')\n",
    "construct_stats.plot_stats_data(aum_df, 'AUM', 'AUM Over Time', 'aum.png', True)\n",
    "construct_stats.plot_stats_data(mgrs_df, 'UniqueMgrCounts', 'Managers Over Time', 'mgrs.png')"
   ]
  },
  {
   "cell_type": "markdown",
   "metadata": {},
   "source": []
  }
 ],
 "metadata": {
  "kernelspec": {
   "display_name": "finm",
   "language": "python",
   "name": "python3"
  },
  "language_info": {
   "codemirror_mode": {
    "name": "ipython",
    "version": 3
   },
   "file_extension": ".py",
   "mimetype": "text/x-python",
   "name": "python",
   "nbconvert_exporter": "python",
   "pygments_lexer": "ipython3",
   "version": "3.12.1"
  },
  "orig_nbformat": 4,
  "vscode": {
   "interpreter": {
    "hash": "09f9302ec9905de73c13b181706ea80c3001bfbfecdf5ea9d1b963e527e0dd1b"
   }
  }
 },
 "nbformat": 4,
 "nbformat_minor": 2
}
